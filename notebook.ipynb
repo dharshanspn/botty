{
 "cells": [
  {
   "cell_type": "code",
   "execution_count": 1,
   "metadata": {},
   "outputs": [
    {
     "name": "stdout",
     "output_type": "stream",
     "text": [
      "Collecting git+https://github.com/deathlyface/python-tradingview-ta.git\n",
      "  Cloning https://github.com/deathlyface/python-tradingview-ta.git to c:\\users\\administrator\\appdata\\local\\temp\\2\\pip-req-build-g_kg2k4u\n",
      "  Resolved https://github.com/deathlyface/python-tradingview-ta.git to commit 4a113824cae1920ac501d76b9022a7dd48ff9fac\n",
      "  Preparing metadata (setup.py): started\n",
      "  Preparing metadata (setup.py): finished with status 'done'\n",
      "Requirement already satisfied: requests in c:\\users\\administrator\\appdata\\local\\programs\\python\\python310\\lib\\site-packages (from tradingview-ta==3.3.0) (2.31.0)\n",
      "Requirement already satisfied: certifi>=2017.4.17 in c:\\users\\administrator\\appdata\\local\\programs\\python\\python310\\lib\\site-packages (from requests->tradingview-ta==3.3.0) (2023.5.7)\n",
      "Requirement already satisfied: charset-normalizer<4,>=2 in c:\\users\\administrator\\appdata\\local\\programs\\python\\python310\\lib\\site-packages (from requests->tradingview-ta==3.3.0) (3.1.0)\n",
      "Requirement already satisfied: urllib3<3,>=1.21.1 in c:\\users\\administrator\\appdata\\local\\programs\\python\\python310\\lib\\site-packages (from requests->tradingview-ta==3.3.0) (2.0.3)\n",
      "Requirement already satisfied: idna<4,>=2.5 in c:\\users\\administrator\\appdata\\local\\programs\\python\\python310\\lib\\site-packages (from requests->tradingview-ta==3.3.0) (3.4)\n"
     ]
    },
    {
     "name": "stderr",
     "output_type": "stream",
     "text": [
      "  Running command git clone --filter=blob:none --quiet https://github.com/deathlyface/python-tradingview-ta.git 'C:\\Users\\Administrator\\AppData\\Local\\Temp\\2\\pip-req-build-g_kg2k4u'\n",
      "\n",
      "[notice] A new release of pip available: 22.3.1 -> 23.1.2\n",
      "[notice] To update, run: python.exe -m pip install --upgrade pip\n"
     ]
    }
   ],
   "source": [
    "!pip install git+https://github.com/deathlyface/python-tradingview-ta.git"
   ]
  },
  {
   "cell_type": "code",
   "execution_count": 2,
   "metadata": {},
   "outputs": [
    {
     "name": "stdout",
     "output_type": "stream",
     "text": [
      "Requirement already satisfied: tradingview_ta in c:\\users\\administrator\\appdata\\local\\programs\\python\\python310\\lib\\site-packages (3.3.0)\n",
      "Requirement already satisfied: requests in c:\\users\\administrator\\appdata\\local\\programs\\python\\python310\\lib\\site-packages (from tradingview_ta) (2.31.0)\n",
      "Requirement already satisfied: urllib3<3,>=1.21.1 in c:\\users\\administrator\\appdata\\local\\programs\\python\\python310\\lib\\site-packages (from requests->tradingview_ta) (2.0.3)\n",
      "Requirement already satisfied: charset-normalizer<4,>=2 in c:\\users\\administrator\\appdata\\local\\programs\\python\\python310\\lib\\site-packages (from requests->tradingview_ta) (3.1.0)\n",
      "Requirement already satisfied: certifi>=2017.4.17 in c:\\users\\administrator\\appdata\\local\\programs\\python\\python310\\lib\\site-packages (from requests->tradingview_ta) (2023.5.7)\n",
      "Requirement already satisfied: idna<4,>=2.5 in c:\\users\\administrator\\appdata\\local\\programs\\python\\python310\\lib\\site-packages (from requests->tradingview_ta) (3.4)\n"
     ]
    },
    {
     "name": "stderr",
     "output_type": "stream",
     "text": [
      "\n",
      "[notice] A new release of pip available: 22.3.1 -> 23.1.2\n",
      "[notice] To update, run: python.exe -m pip install --upgrade pip\n"
     ]
    }
   ],
   "source": [
    "\n",
    "!pip install tradingview_ta --upgrade"
   ]
  },
  {
   "cell_type": "code",
   "execution_count": 3,
   "metadata": {},
   "outputs": [
    {
     "name": "stdout",
     "output_type": "stream",
     "text": [
      "Requirement already satisfied: requests in c:\\users\\administrator\\appdata\\local\\programs\\python\\python310\\lib\\site-packages (2.31.0)\n",
      "Requirement already satisfied: websocket-client in c:\\users\\administrator\\appdata\\local\\programs\\python\\python310\\lib\\site-packages (0.56.0)\n",
      "Requirement already satisfied: certifi>=2017.4.17 in c:\\users\\administrator\\appdata\\local\\programs\\python\\python310\\lib\\site-packages (from requests) (2023.5.7)\n",
      "Requirement already satisfied: urllib3<3,>=1.21.1 in c:\\users\\administrator\\appdata\\local\\programs\\python\\python310\\lib\\site-packages (from requests) (2.0.3)\n",
      "Requirement already satisfied: charset-normalizer<4,>=2 in c:\\users\\administrator\\appdata\\local\\programs\\python\\python310\\lib\\site-packages (from requests) (3.1.0)\n",
      "Requirement already satisfied: idna<4,>=2.5 in c:\\users\\administrator\\appdata\\local\\programs\\python\\python310\\lib\\site-packages (from requests) (3.4)\n",
      "Requirement already satisfied: six in c:\\users\\administrator\\appdata\\roaming\\python\\python310\\site-packages (from websocket-client) (1.16.0)\n"
     ]
    },
    {
     "name": "stderr",
     "output_type": "stream",
     "text": [
      "\n",
      "[notice] A new release of pip available: 22.3.1 -> 23.1.2\n",
      "[notice] To update, run: python.exe -m pip install --upgrade pip\n"
     ]
    }
   ],
   "source": [
    "!pip install requests websocket-client\n"
   ]
  },
  {
   "cell_type": "code",
   "execution_count": 4,
   "metadata": {},
   "outputs": [
    {
     "name": "stdout",
     "output_type": "stream",
     "text": [
      "Requirement already satisfied: pylint in c:\\users\\administrator\\appdata\\local\\programs\\python\\python310\\lib\\site-packages (from -r requirements.txt (line 1)) (2.17.4)\n",
      "Requirement already satisfied: requests in c:\\users\\administrator\\appdata\\local\\programs\\python\\python310\\lib\\site-packages (from -r requirements.txt (line 2)) (2.31.0)\n",
      "Requirement already satisfied: dill>=0.2 in c:\\users\\administrator\\appdata\\local\\programs\\python\\python310\\lib\\site-packages (from pylint->-r requirements.txt (line 1)) (0.3.6)\n",
      "Requirement already satisfied: astroid<=2.17.0-dev0,>=2.15.4 in c:\\users\\administrator\\appdata\\local\\programs\\python\\python310\\lib\\site-packages (from pylint->-r requirements.txt (line 1)) (2.15.5)\n",
      "Requirement already satisfied: tomli>=1.1.0 in c:\\users\\administrator\\appdata\\local\\programs\\python\\python310\\lib\\site-packages (from pylint->-r requirements.txt (line 1)) (2.0.1)\n",
      "Requirement already satisfied: tomlkit>=0.10.1 in c:\\users\\administrator\\appdata\\local\\programs\\python\\python310\\lib\\site-packages (from pylint->-r requirements.txt (line 1)) (0.11.8)\n",
      "Requirement already satisfied: platformdirs>=2.2.0 in c:\\users\\administrator\\appdata\\roaming\\python\\python310\\site-packages (from pylint->-r requirements.txt (line 1)) (3.5.3)\n",
      "Requirement already satisfied: mccabe<0.8,>=0.6 in c:\\users\\administrator\\appdata\\local\\programs\\python\\python310\\lib\\site-packages (from pylint->-r requirements.txt (line 1)) (0.7.0)\n",
      "Requirement already satisfied: isort<6,>=4.2.5 in c:\\users\\administrator\\appdata\\local\\programs\\python\\python310\\lib\\site-packages (from pylint->-r requirements.txt (line 1)) (5.12.0)\n",
      "Requirement already satisfied: colorama>=0.4.5 in c:\\users\\administrator\\appdata\\roaming\\python\\python310\\site-packages (from pylint->-r requirements.txt (line 1)) (0.4.6)\n",
      "Requirement already satisfied: certifi>=2017.4.17 in c:\\users\\administrator\\appdata\\local\\programs\\python\\python310\\lib\\site-packages (from requests->-r requirements.txt (line 2)) (2023.5.7)\n",
      "Requirement already satisfied: charset-normalizer<4,>=2 in c:\\users\\administrator\\appdata\\local\\programs\\python\\python310\\lib\\site-packages (from requests->-r requirements.txt (line 2)) (3.1.0)\n",
      "Requirement already satisfied: urllib3<3,>=1.21.1 in c:\\users\\administrator\\appdata\\local\\programs\\python\\python310\\lib\\site-packages (from requests->-r requirements.txt (line 2)) (2.0.3)\n",
      "Requirement already satisfied: idna<4,>=2.5 in c:\\users\\administrator\\appdata\\local\\programs\\python\\python310\\lib\\site-packages (from requests->-r requirements.txt (line 2)) (3.4)\n",
      "Requirement already satisfied: lazy-object-proxy>=1.4.0 in c:\\users\\administrator\\appdata\\local\\programs\\python\\python310\\lib\\site-packages (from astroid<=2.17.0-dev0,>=2.15.4->pylint->-r requirements.txt (line 1)) (1.9.0)\n",
      "Requirement already satisfied: typing-extensions>=4.0.0 in c:\\users\\administrator\\appdata\\local\\programs\\python\\python310\\lib\\site-packages (from astroid<=2.17.0-dev0,>=2.15.4->pylint->-r requirements.txt (line 1)) (4.6.3)\n",
      "Requirement already satisfied: wrapt<2,>=1.11 in c:\\users\\administrator\\appdata\\local\\programs\\python\\python310\\lib\\site-packages (from astroid<=2.17.0-dev0,>=2.15.4->pylint->-r requirements.txt (line 1)) (1.15.0)\n"
     ]
    },
    {
     "name": "stderr",
     "output_type": "stream",
     "text": [
      "\n",
      "[notice] A new release of pip available: 22.3.1 -> 23.1.2\n",
      "[notice] To update, run: python.exe -m pip install --upgrade pip\n"
     ]
    }
   ],
   "source": [
    "!pip install -r requirements.txt"
   ]
  },
  {
   "cell_type": "code",
   "execution_count": 5,
   "metadata": {},
   "outputs": [
    {
     "name": "stdout",
     "output_type": "stream",
     "text": [
      "running install\n",
      "running bdist_egg\n",
      "running egg_info\n",
      "writing iqoptionapi.egg-info\\PKG-INFO\n",
      "writing dependency_links to iqoptionapi.egg-info\\dependency_links.txt\n",
      "writing requirements to iqoptionapi.egg-info\\requires.txt\n",
      "writing top-level names to iqoptionapi.egg-info\\top_level.txt\n",
      "reading manifest file 'iqoptionapi.egg-info\\SOURCES.txt'\n",
      "writing manifest file 'iqoptionapi.egg-info\\SOURCES.txt'\n",
      "installing library code to build\\bdist.win-amd64\\egg\n",
      "running install_lib\n",
      "running build_py\n",
      "creating build\\bdist.win-amd64\\egg\n",
      "creating build\\bdist.win-amd64\\egg\\iqoptionapi\n",
      "copying build\\lib\\iqoptionapi\\api.py -> build\\bdist.win-amd64\\egg\\iqoptionapi\n",
      "copying build\\lib\\iqoptionapi\\constants.py -> build\\bdist.win-amd64\\egg\\iqoptionapi\n",
      "copying build\\lib\\iqoptionapi\\country_id.py -> build\\bdist.win-amd64\\egg\\iqoptionapi\n",
      "copying build\\lib\\iqoptionapi\\expiration.py -> build\\bdist.win-amd64\\egg\\iqoptionapi\n",
      "copying build\\lib\\iqoptionapi\\global_value.py -> build\\bdist.win-amd64\\egg\\iqoptionapi\n",
      "creating build\\bdist.win-amd64\\egg\\iqoptionapi\\http\n",
      "copying build\\lib\\iqoptionapi\\http\\appinit.py -> build\\bdist.win-amd64\\egg\\iqoptionapi\\http\n",
      "copying build\\lib\\iqoptionapi\\http\\auth.py -> build\\bdist.win-amd64\\egg\\iqoptionapi\\http\n",
      "copying build\\lib\\iqoptionapi\\http\\billing.py -> build\\bdist.win-amd64\\egg\\iqoptionapi\\http\n",
      "copying build\\lib\\iqoptionapi\\http\\buyback.py -> build\\bdist.win-amd64\\egg\\iqoptionapi\\http\n",
      "copying build\\lib\\iqoptionapi\\http\\changebalance.py -> build\\bdist.win-amd64\\egg\\iqoptionapi\\http\n",
      "copying build\\lib\\iqoptionapi\\http\\events.py -> build\\bdist.win-amd64\\egg\\iqoptionapi\\http\n",
      "copying build\\lib\\iqoptionapi\\http\\getprofile.py -> build\\bdist.win-amd64\\egg\\iqoptionapi\\http\n",
      "copying build\\lib\\iqoptionapi\\http\\getregdata.py -> build\\bdist.win-amd64\\egg\\iqoptionapi\\http\n",
      "copying build\\lib\\iqoptionapi\\http\\login.py -> build\\bdist.win-amd64\\egg\\iqoptionapi\\http\n",
      "copying build\\lib\\iqoptionapi\\http\\loginv2.py -> build\\bdist.win-amd64\\egg\\iqoptionapi\\http\n",
      "copying build\\lib\\iqoptionapi\\http\\logout.py -> build\\bdist.win-amd64\\egg\\iqoptionapi\\http\n",
      "copying build\\lib\\iqoptionapi\\http\\profile.py -> build\\bdist.win-amd64\\egg\\iqoptionapi\\http\n",
      "copying build\\lib\\iqoptionapi\\http\\register.py -> build\\bdist.win-amd64\\egg\\iqoptionapi\\http\n",
      "copying build\\lib\\iqoptionapi\\http\\resource.py -> build\\bdist.win-amd64\\egg\\iqoptionapi\\http\n",
      "copying build\\lib\\iqoptionapi\\http\\token.py -> build\\bdist.win-amd64\\egg\\iqoptionapi\\http\n",
      "copying build\\lib\\iqoptionapi\\http\\__init__.py -> build\\bdist.win-amd64\\egg\\iqoptionapi\\http\n",
      "copying build\\lib\\iqoptionapi\\stable_api.py -> build\\bdist.win-amd64\\egg\\iqoptionapi\n",
      "creating build\\bdist.win-amd64\\egg\\iqoptionapi\\ws\n",
      "creating build\\bdist.win-amd64\\egg\\iqoptionapi\\ws\\chanels\n",
      "copying build\\lib\\iqoptionapi\\ws\\chanels\\api_game_betinfo.py -> build\\bdist.win-amd64\\egg\\iqoptionapi\\ws\\chanels\n",
      "copying build\\lib\\iqoptionapi\\ws\\chanels\\api_game_getoptions.py -> build\\bdist.win-amd64\\egg\\iqoptionapi\\ws\\chanels\n",
      "copying build\\lib\\iqoptionapi\\ws\\chanels\\base.py -> build\\bdist.win-amd64\\egg\\iqoptionapi\\ws\\chanels\n",
      "copying build\\lib\\iqoptionapi\\ws\\chanels\\buyback.py -> build\\bdist.win-amd64\\egg\\iqoptionapi\\ws\\chanels\n",
      "copying build\\lib\\iqoptionapi\\ws\\chanels\\buyv2.py -> build\\bdist.win-amd64\\egg\\iqoptionapi\\ws\\chanels\n",
      "copying build\\lib\\iqoptionapi\\ws\\chanels\\buyv3.py -> build\\bdist.win-amd64\\egg\\iqoptionapi\\ws\\chanels\n",
      "copying build\\lib\\iqoptionapi\\ws\\chanels\\buy_place_order_temp.py -> build\\bdist.win-amd64\\egg\\iqoptionapi\\ws\\chanels\n",
      "copying build\\lib\\iqoptionapi\\ws\\chanels\\cancel_order.py -> build\\bdist.win-amd64\\egg\\iqoptionapi\\ws\\chanels\n",
      "copying build\\lib\\iqoptionapi\\ws\\chanels\\candles.py -> build\\bdist.win-amd64\\egg\\iqoptionapi\\ws\\chanels\n",
      "copying build\\lib\\iqoptionapi\\ws\\chanels\\changebalance.py -> build\\bdist.win-amd64\\egg\\iqoptionapi\\ws\\chanels\n",
      "copying build\\lib\\iqoptionapi\\ws\\chanels\\change_auto_margin_call.py -> build\\bdist.win-amd64\\egg\\iqoptionapi\\ws\\chanels\n",
      "copying build\\lib\\iqoptionapi\\ws\\chanels\\change_tpsl.py -> build\\bdist.win-amd64\\egg\\iqoptionapi\\ws\\chanels\n",
      "copying build\\lib\\iqoptionapi\\ws\\chanels\\close_position.py -> build\\bdist.win-amd64\\egg\\iqoptionapi\\ws\\chanels\n",
      "copying build\\lib\\iqoptionapi\\ws\\chanels\\digital_option.py -> build\\bdist.win-amd64\\egg\\iqoptionapi\\ws\\chanels\n",
      "copying build\\lib\\iqoptionapi\\ws\\chanels\\get_available_leverages.py -> build\\bdist.win-amd64\\egg\\iqoptionapi\\ws\\chanels\n",
      "copying build\\lib\\iqoptionapi\\ws\\chanels\\get_balances.py -> build\\bdist.win-amd64\\egg\\iqoptionapi\\ws\\chanels\n",
      "copying build\\lib\\iqoptionapi\\ws\\chanels\\get_deferred_orders.py -> build\\bdist.win-amd64\\egg\\iqoptionapi\\ws\\chanels\n",
      "copying build\\lib\\iqoptionapi\\ws\\chanels\\get_financial_information.py -> build\\bdist.win-amd64\\egg\\iqoptionapi\\ws\\chanels\n",
      "copying build\\lib\\iqoptionapi\\ws\\chanels\\get_order.py -> build\\bdist.win-amd64\\egg\\iqoptionapi\\ws\\chanels\n",
      "copying build\\lib\\iqoptionapi\\ws\\chanels\\get_overnight_fee.py -> build\\bdist.win-amd64\\egg\\iqoptionapi\\ws\\chanels\n",
      "copying build\\lib\\iqoptionapi\\ws\\chanels\\get_positions.py -> build\\bdist.win-amd64\\egg\\iqoptionapi\\ws\\chanels\n",
      "copying build\\lib\\iqoptionapi\\ws\\chanels\\heartbeat.py -> build\\bdist.win-amd64\\egg\\iqoptionapi\\ws\\chanels\n",
      "copying build\\lib\\iqoptionapi\\ws\\chanels\\instruments.py -> build\\bdist.win-amd64\\egg\\iqoptionapi\\ws\\chanels\n",
      "copying build\\lib\\iqoptionapi\\ws\\chanels\\leaderboard.py -> build\\bdist.win-amd64\\egg\\iqoptionapi\\ws\\chanels\n",
      "copying build\\lib\\iqoptionapi\\ws\\chanels\\sell_option.py -> build\\bdist.win-amd64\\egg\\iqoptionapi\\ws\\chanels\n",
      "copying build\\lib\\iqoptionapi\\ws\\chanels\\setactives.py -> build\\bdist.win-amd64\\egg\\iqoptionapi\\ws\\chanels\n",
      "copying build\\lib\\iqoptionapi\\ws\\chanels\\ssid.py -> build\\bdist.win-amd64\\egg\\iqoptionapi\\ws\\chanels\n",
      "copying build\\lib\\iqoptionapi\\ws\\chanels\\strike_list.py -> build\\bdist.win-amd64\\egg\\iqoptionapi\\ws\\chanels\n",
      "copying build\\lib\\iqoptionapi\\ws\\chanels\\subscribe.py -> build\\bdist.win-amd64\\egg\\iqoptionapi\\ws\\chanels\n",
      "copying build\\lib\\iqoptionapi\\ws\\chanels\\traders_mood.py -> build\\bdist.win-amd64\\egg\\iqoptionapi\\ws\\chanels\n",
      "copying build\\lib\\iqoptionapi\\ws\\chanels\\unsubscribe.py -> build\\bdist.win-amd64\\egg\\iqoptionapi\\ws\\chanels\n",
      "copying build\\lib\\iqoptionapi\\ws\\chanels\\user.py -> build\\bdist.win-amd64\\egg\\iqoptionapi\\ws\\chanels\n",
      "copying build\\lib\\iqoptionapi\\ws\\chanels\\__init__.py -> build\\bdist.win-amd64\\egg\\iqoptionapi\\ws\\chanels\n",
      "copying build\\lib\\iqoptionapi\\ws\\client.py -> build\\bdist.win-amd64\\egg\\iqoptionapi\\ws\n",
      "creating build\\bdist.win-amd64\\egg\\iqoptionapi\\ws\\objects\n",
      "copying build\\lib\\iqoptionapi\\ws\\objects\\base.py -> build\\bdist.win-amd64\\egg\\iqoptionapi\\ws\\objects\n",
      "copying build\\lib\\iqoptionapi\\ws\\objects\\betinfo.py -> build\\bdist.win-amd64\\egg\\iqoptionapi\\ws\\objects\n",
      "copying build\\lib\\iqoptionapi\\ws\\objects\\candles.py -> build\\bdist.win-amd64\\egg\\iqoptionapi\\ws\\objects\n",
      "copying build\\lib\\iqoptionapi\\ws\\objects\\listinfodata.py -> build\\bdist.win-amd64\\egg\\iqoptionapi\\ws\\objects\n",
      "copying build\\lib\\iqoptionapi\\ws\\objects\\profile.py -> build\\bdist.win-amd64\\egg\\iqoptionapi\\ws\\objects\n",
      "copying build\\lib\\iqoptionapi\\ws\\objects\\timesync.py -> build\\bdist.win-amd64\\egg\\iqoptionapi\\ws\\objects\n",
      "copying build\\lib\\iqoptionapi\\ws\\objects\\__init__.py -> build\\bdist.win-amd64\\egg\\iqoptionapi\\ws\\objects\n",
      "copying build\\lib\\iqoptionapi\\ws\\__init__.py -> build\\bdist.win-amd64\\egg\\iqoptionapi\\ws\n",
      "copying build\\lib\\iqoptionapi\\__init__.py -> build\\bdist.win-amd64\\egg\\iqoptionapi\n",
      "creating build\\bdist.win-amd64\\egg\\tests\n",
      "copying build\\lib\\tests\\test_Binary_Option.py -> build\\bdist.win-amd64\\egg\\tests\n",
      "copying build\\lib\\tests\\test_Candle.py -> build\\bdist.win-amd64\\egg\\tests\n",
      "copying build\\lib\\tests\\test_Login.py -> build\\bdist.win-amd64\\egg\\tests\n",
      "copying build\\lib\\tests\\__init__.py -> build\\bdist.win-amd64\\egg\\tests\n",
      "byte-compiling build\\bdist.win-amd64\\egg\\iqoptionapi\\api.py to api.cpython-310.pyc\n",
      "byte-compiling build\\bdist.win-amd64\\egg\\iqoptionapi\\constants.py to constants.cpython-310.pyc\n",
      "byte-compiling build\\bdist.win-amd64\\egg\\iqoptionapi\\country_id.py to country_id.cpython-310.pyc\n",
      "byte-compiling build\\bdist.win-amd64\\egg\\iqoptionapi\\expiration.py to expiration.cpython-310.pyc\n",
      "byte-compiling build\\bdist.win-amd64\\egg\\iqoptionapi\\global_value.py to global_value.cpython-310.pyc\n",
      "byte-compiling build\\bdist.win-amd64\\egg\\iqoptionapi\\http\\appinit.py to appinit.cpython-310.pyc\n",
      "byte-compiling build\\bdist.win-amd64\\egg\\iqoptionapi\\http\\auth.py to auth.cpython-310.pyc\n",
      "byte-compiling build\\bdist.win-amd64\\egg\\iqoptionapi\\http\\billing.py to billing.cpython-310.pyc\n",
      "byte-compiling build\\bdist.win-amd64\\egg\\iqoptionapi\\http\\buyback.py to buyback.cpython-310.pyc\n",
      "byte-compiling build\\bdist.win-amd64\\egg\\iqoptionapi\\http\\changebalance.py to changebalance.cpython-310.pyc\n",
      "byte-compiling build\\bdist.win-amd64\\egg\\iqoptionapi\\http\\events.py to events.cpython-310.pyc\n",
      "byte-compiling build\\bdist.win-amd64\\egg\\iqoptionapi\\http\\getprofile.py to getprofile.cpython-310.pyc\n",
      "byte-compiling build\\bdist.win-amd64\\egg\\iqoptionapi\\http\\getregdata.py to getregdata.cpython-310.pyc\n",
      "byte-compiling build\\bdist.win-amd64\\egg\\iqoptionapi\\http\\login.py to login.cpython-310.pyc\n",
      "byte-compiling build\\bdist.win-amd64\\egg\\iqoptionapi\\http\\loginv2.py to loginv2.cpython-310.pyc\n",
      "byte-compiling build\\bdist.win-amd64\\egg\\iqoptionapi\\http\\logout.py to logout.cpython-310.pyc\n",
      "byte-compiling build\\bdist.win-amd64\\egg\\iqoptionapi\\http\\profile.py to profile.cpython-310.pyc\n",
      "byte-compiling build\\bdist.win-amd64\\egg\\iqoptionapi\\http\\register.py to register.cpython-310.pyc\n",
      "byte-compiling build\\bdist.win-amd64\\egg\\iqoptionapi\\http\\resource.py to resource.cpython-310.pyc\n",
      "byte-compiling build\\bdist.win-amd64\\egg\\iqoptionapi\\http\\token.py to token.cpython-310.pyc\n",
      "byte-compiling build\\bdist.win-amd64\\egg\\iqoptionapi\\http\\__init__.py to __init__.cpython-310.pyc\n",
      "byte-compiling build\\bdist.win-amd64\\egg\\iqoptionapi\\stable_api.py to stable_api.cpython-310.pyc\n",
      "byte-compiling build\\bdist.win-amd64\\egg\\iqoptionapi\\ws\\chanels\\api_game_betinfo.py to api_game_betinfo.cpython-310.pyc\n",
      "byte-compiling build\\bdist.win-amd64\\egg\\iqoptionapi\\ws\\chanels\\api_game_getoptions.py to api_game_getoptions.cpython-310.pyc\n",
      "byte-compiling build\\bdist.win-amd64\\egg\\iqoptionapi\\ws\\chanels\\base.py to base.cpython-310.pyc\n",
      "byte-compiling build\\bdist.win-amd64\\egg\\iqoptionapi\\ws\\chanels\\buyback.py to buyback.cpython-310.pyc\n",
      "byte-compiling build\\bdist.win-amd64\\egg\\iqoptionapi\\ws\\chanels\\buyv2.py to buyv2.cpython-310.pyc\n",
      "byte-compiling build\\bdist.win-amd64\\egg\\iqoptionapi\\ws\\chanels\\buyv3.py to buyv3.cpython-310.pyc\n",
      "byte-compiling build\\bdist.win-amd64\\egg\\iqoptionapi\\ws\\chanels\\buy_place_order_temp.py to buy_place_order_temp.cpython-310.pyc\n",
      "byte-compiling build\\bdist.win-amd64\\egg\\iqoptionapi\\ws\\chanels\\cancel_order.py to cancel_order.cpython-310.pyc\n",
      "byte-compiling build\\bdist.win-amd64\\egg\\iqoptionapi\\ws\\chanels\\candles.py to candles.cpython-310.pyc\n",
      "byte-compiling build\\bdist.win-amd64\\egg\\iqoptionapi\\ws\\chanels\\changebalance.py to changebalance.cpython-310.pyc\n",
      "byte-compiling build\\bdist.win-amd64\\egg\\iqoptionapi\\ws\\chanels\\change_auto_margin_call.py to change_auto_margin_call.cpython-310.pyc\n",
      "byte-compiling build\\bdist.win-amd64\\egg\\iqoptionapi\\ws\\chanels\\change_tpsl.py to change_tpsl.cpython-310.pyc\n",
      "byte-compiling build\\bdist.win-amd64\\egg\\iqoptionapi\\ws\\chanels\\close_position.py to close_position.cpython-310.pyc\n",
      "byte-compiling build\\bdist.win-amd64\\egg\\iqoptionapi\\ws\\chanels\\digital_option.py to digital_option.cpython-310.pyc\n",
      "byte-compiling build\\bdist.win-amd64\\egg\\iqoptionapi\\ws\\chanels\\get_available_leverages.py to get_available_leverages.cpython-310.pyc\n",
      "byte-compiling build\\bdist.win-amd64\\egg\\iqoptionapi\\ws\\chanels\\get_balances.py to get_balances.cpython-310.pyc\n",
      "byte-compiling build\\bdist.win-amd64\\egg\\iqoptionapi\\ws\\chanels\\get_deferred_orders.py to get_deferred_orders.cpython-310.pyc\n",
      "byte-compiling build\\bdist.win-amd64\\egg\\iqoptionapi\\ws\\chanels\\get_financial_information.py to get_financial_information.cpython-310.pyc\n",
      "byte-compiling build\\bdist.win-amd64\\egg\\iqoptionapi\\ws\\chanels\\get_order.py to get_order.cpython-310.pyc\n",
      "byte-compiling build\\bdist.win-amd64\\egg\\iqoptionapi\\ws\\chanels\\get_overnight_fee.py to get_overnight_fee.cpython-310.pyc\n",
      "byte-compiling build\\bdist.win-amd64\\egg\\iqoptionapi\\ws\\chanels\\get_positions.py to get_positions.cpython-310.pyc\n",
      "byte-compiling build\\bdist.win-amd64\\egg\\iqoptionapi\\ws\\chanels\\heartbeat.py to heartbeat.cpython-310.pyc\n",
      "byte-compiling build\\bdist.win-amd64\\egg\\iqoptionapi\\ws\\chanels\\instruments.py to instruments.cpython-310.pyc\n",
      "byte-compiling build\\bdist.win-amd64\\egg\\iqoptionapi\\ws\\chanels\\leaderboard.py to leaderboard.cpython-310.pyc\n",
      "byte-compiling build\\bdist.win-amd64\\egg\\iqoptionapi\\ws\\chanels\\sell_option.py to sell_option.cpython-310.pyc\n",
      "byte-compiling build\\bdist.win-amd64\\egg\\iqoptionapi\\ws\\chanels\\setactives.py to setactives.cpython-310.pyc\n",
      "byte-compiling build\\bdist.win-amd64\\egg\\iqoptionapi\\ws\\chanels\\ssid.py to ssid.cpython-310.pyc\n",
      "byte-compiling build\\bdist.win-amd64\\egg\\iqoptionapi\\ws\\chanels\\strike_list.py to strike_list.cpython-310.pyc\n",
      "byte-compiling build\\bdist.win-amd64\\egg\\iqoptionapi\\ws\\chanels\\subscribe.py to subscribe.cpython-310.pyc\n",
      "byte-compiling build\\bdist.win-amd64\\egg\\iqoptionapi\\ws\\chanels\\traders_mood.py to traders_mood.cpython-310.pyc\n",
      "byte-compiling build\\bdist.win-amd64\\egg\\iqoptionapi\\ws\\chanels\\unsubscribe.py to unsubscribe.cpython-310.pyc\n",
      "byte-compiling build\\bdist.win-amd64\\egg\\iqoptionapi\\ws\\chanels\\user.py to user.cpython-310.pyc\n",
      "byte-compiling build\\bdist.win-amd64\\egg\\iqoptionapi\\ws\\chanels\\__init__.py to __init__.cpython-310.pyc\n",
      "byte-compiling build\\bdist.win-amd64\\egg\\iqoptionapi\\ws\\client.py to client.cpython-310.pyc\n",
      "byte-compiling build\\bdist.win-amd64\\egg\\iqoptionapi\\ws\\objects\\base.py to base.cpython-310.pyc\n",
      "byte-compiling build\\bdist.win-amd64\\egg\\iqoptionapi\\ws\\objects\\betinfo.py to betinfo.cpython-310.pyc\n",
      "byte-compiling build\\bdist.win-amd64\\egg\\iqoptionapi\\ws\\objects\\candles.py to candles.cpython-310.pyc\n",
      "byte-compiling build\\bdist.win-amd64\\egg\\iqoptionapi\\ws\\objects\\listinfodata.py to listinfodata.cpython-310.pyc\n",
      "byte-compiling build\\bdist.win-amd64\\egg\\iqoptionapi\\ws\\objects\\profile.py to profile.cpython-310.pyc\n",
      "byte-compiling build\\bdist.win-amd64\\egg\\iqoptionapi\\ws\\objects\\timesync.py to timesync.cpython-310.pyc\n",
      "byte-compiling build\\bdist.win-amd64\\egg\\iqoptionapi\\ws\\objects\\__init__.py to __init__.cpython-310.pyc\n",
      "byte-compiling build\\bdist.win-amd64\\egg\\iqoptionapi\\ws\\__init__.py to __init__.cpython-310.pyc\n",
      "byte-compiling build\\bdist.win-amd64\\egg\\iqoptionapi\\__init__.py to __init__.cpython-310.pyc\n",
      "byte-compiling build\\bdist.win-amd64\\egg\\tests\\test_Binary_Option.py to test_Binary_Option.cpython-310.pyc\n",
      "byte-compiling build\\bdist.win-amd64\\egg\\tests\\test_Candle.py to test_Candle.cpython-310.pyc\n",
      "byte-compiling build\\bdist.win-amd64\\egg\\tests\\test_Login.py to test_Login.cpython-310.pyc\n",
      "byte-compiling build\\bdist.win-amd64\\egg\\tests\\__init__.py to __init__.cpython-310.pyc\n",
      "creating build\\bdist.win-amd64\\egg\\EGG-INFO\n",
      "copying iqoptionapi.egg-info\\PKG-INFO -> build\\bdist.win-amd64\\egg\\EGG-INFO\n",
      "copying iqoptionapi.egg-info\\SOURCES.txt -> build\\bdist.win-amd64\\egg\\EGG-INFO\n",
      "copying iqoptionapi.egg-info\\dependency_links.txt -> build\\bdist.win-amd64\\egg\\EGG-INFO\n",
      "copying iqoptionapi.egg-info\\not-zip-safe -> build\\bdist.win-amd64\\egg\\EGG-INFO\n",
      "copying iqoptionapi.egg-info\\requires.txt -> build\\bdist.win-amd64\\egg\\EGG-INFO\n",
      "copying iqoptionapi.egg-info\\top_level.txt -> build\\bdist.win-amd64\\egg\\EGG-INFO\n",
      "creating 'dist\\iqoptionapi-6.8.9.1-py3.10.egg' and adding 'build\\bdist.win-amd64\\egg' to it\n",
      "removing 'build\\bdist.win-amd64\\egg' (and everything under it)\n",
      "Processing iqoptionapi-6.8.9.1-py3.10.egg\n",
      "removing 'c:\\users\\administrator\\appdata\\local\\programs\\python\\python310\\lib\\site-packages\\iqoptionapi-6.8.9.1-py3.10.egg' (and everything under it)\n",
      "creating c:\\users\\administrator\\appdata\\local\\programs\\python\\python310\\lib\\site-packages\\iqoptionapi-6.8.9.1-py3.10.egg\n",
      "Extracting iqoptionapi-6.8.9.1-py3.10.egg to c:\\users\\administrator\\appdata\\local\\programs\\python\\python310\\lib\\site-packages\n",
      "iqoptionapi 6.8.9.1 is already the active version in easy-install.pth\n",
      "\n",
      "Installed c:\\users\\administrator\\appdata\\local\\programs\\python\\python310\\lib\\site-packages\\iqoptionapi-6.8.9.1-py3.10.egg\n",
      "Processing dependencies for iqoptionapi==6.8.9.1\n",
      "Searching for websocket-client==0.56.0\n",
      "Best match: websocket-client 0.56.0\n",
      "Adding websocket-client 0.56.0 to easy-install.pth file\n",
      "\n",
      "Using c:\\users\\administrator\\appdata\\local\\programs\\python\\python310\\lib\\site-packages\n",
      "Searching for requests==2.31.0\n",
      "Best match: requests 2.31.0\n",
      "Adding requests 2.31.0 to easy-install.pth file\n",
      "\n",
      "Using c:\\users\\administrator\\appdata\\local\\programs\\python\\python310\\lib\\site-packages\n",
      "Searching for pylint==2.17.4\n",
      "Best match: pylint 2.17.4\n",
      "Adding pylint 2.17.4 to easy-install.pth file\n",
      "Installing epylint-script.py script to c:\\Users\\Administrator\\AppData\\Local\\Programs\\Python\\Python310\\Scripts\n",
      "Installing epylint.exe script to c:\\Users\\Administrator\\AppData\\Local\\Programs\\Python\\Python310\\Scripts\n",
      "Installing pylint-script.py script to c:\\Users\\Administrator\\AppData\\Local\\Programs\\Python\\Python310\\Scripts\n",
      "Installing pylint.exe script to c:\\Users\\Administrator\\AppData\\Local\\Programs\\Python\\Python310\\Scripts\n",
      "Installing pylint-config-script.py script to c:\\Users\\Administrator\\AppData\\Local\\Programs\\Python\\Python310\\Scripts\n",
      "Installing pylint-config.exe script to c:\\Users\\Administrator\\AppData\\Local\\Programs\\Python\\Python310\\Scripts\n",
      "Installing pyreverse-script.py script to c:\\Users\\Administrator\\AppData\\Local\\Programs\\Python\\Python310\\Scripts\n",
      "Installing pyreverse.exe script to c:\\Users\\Administrator\\AppData\\Local\\Programs\\Python\\Python310\\Scripts\n",
      "Installing symilar-script.py script to c:\\Users\\Administrator\\AppData\\Local\\Programs\\Python\\Python310\\Scripts\n",
      "Installing symilar.exe script to c:\\Users\\Administrator\\AppData\\Local\\Programs\\Python\\Python310\\Scripts\n",
      "\n",
      "Using c:\\users\\administrator\\appdata\\local\\programs\\python\\python310\\lib\\site-packages\n",
      "Searching for six==1.16.0\n",
      "Best match: six 1.16.0\n",
      "Adding six 1.16.0 to easy-install.pth file\n",
      "\n",
      "Using c:\\users\\administrator\\appdata\\roaming\\python\\python310\\site-packages\n",
      "Searching for certifi==2023.5.7\n",
      "Best match: certifi 2023.5.7\n",
      "Adding certifi 2023.5.7 to easy-install.pth file\n",
      "\n",
      "Using c:\\users\\administrator\\appdata\\local\\programs\\python\\python310\\lib\\site-packages\n",
      "Searching for urllib3==2.0.3\n",
      "Best match: urllib3 2.0.3\n",
      "Adding urllib3 2.0.3 to easy-install.pth file\n",
      "\n",
      "Using c:\\users\\administrator\\appdata\\local\\programs\\python\\python310\\lib\\site-packages\n",
      "Searching for idna==3.4\n",
      "Best match: idna 3.4\n",
      "Adding idna 3.4 to easy-install.pth file\n",
      "\n",
      "Using c:\\users\\administrator\\appdata\\local\\programs\\python\\python310\\lib\\site-packages\n",
      "Searching for charset-normalizer==3.1.0\n",
      "Best match: charset-normalizer 3.1.0\n",
      "Adding charset-normalizer 3.1.0 to easy-install.pth file\n",
      "Installing normalizer-script.py script to c:\\Users\\Administrator\\AppData\\Local\\Programs\\Python\\Python310\\Scripts\n",
      "Installing normalizer.exe script to c:\\Users\\Administrator\\AppData\\Local\\Programs\\Python\\Python310\\Scripts\n",
      "\n",
      "Using c:\\users\\administrator\\appdata\\local\\programs\\python\\python310\\lib\\site-packages\n",
      "Searching for colorama==0.4.6\n",
      "Best match: colorama 0.4.6\n",
      "Adding colorama 0.4.6 to easy-install.pth file\n",
      "\n",
      "Using c:\\users\\administrator\\appdata\\roaming\\python\\python310\\site-packages\n",
      "Searching for tomli==2.0.1\n",
      "Best match: tomli 2.0.1\n",
      "Adding tomli 2.0.1 to easy-install.pth file\n",
      "\n",
      "Using c:\\users\\administrator\\appdata\\local\\programs\\python\\python310\\lib\\site-packages\n",
      "Searching for dill==0.3.6\n",
      "Best match: dill 0.3.6\n",
      "Adding dill 0.3.6 to easy-install.pth file\n",
      "\n",
      "Using c:\\users\\administrator\\appdata\\local\\programs\\python\\python310\\lib\\site-packages\n",
      "Searching for tomlkit==0.11.8\n",
      "Best match: tomlkit 0.11.8\n",
      "Adding tomlkit 0.11.8 to easy-install.pth file\n",
      "\n",
      "Using c:\\users\\administrator\\appdata\\local\\programs\\python\\python310\\lib\\site-packages\n",
      "Searching for mccabe==0.7.0\n",
      "Best match: mccabe 0.7.0\n",
      "Adding mccabe 0.7.0 to easy-install.pth file\n",
      "\n",
      "Using c:\\users\\administrator\\appdata\\local\\programs\\python\\python310\\lib\\site-packages\n",
      "Searching for isort==5.12.0\n",
      "Best match: isort 5.12.0\n",
      "Adding isort 5.12.0 to easy-install.pth file\n",
      "Installing isort-script.py script to c:\\Users\\Administrator\\AppData\\Local\\Programs\\Python\\Python310\\Scripts\n",
      "Installing isort.exe script to c:\\Users\\Administrator\\AppData\\Local\\Programs\\Python\\Python310\\Scripts\n",
      "Installing isort-identify-imports-script.py script to c:\\Users\\Administrator\\AppData\\Local\\Programs\\Python\\Python310\\Scripts\n",
      "Installing isort-identify-imports.exe script to c:\\Users\\Administrator\\AppData\\Local\\Programs\\Python\\Python310\\Scripts\n",
      "\n",
      "Using c:\\users\\administrator\\appdata\\local\\programs\\python\\python310\\lib\\site-packages\n",
      "Searching for astroid==2.15.5\n",
      "Best match: astroid 2.15.5\n",
      "Adding astroid 2.15.5 to easy-install.pth file\n",
      "\n",
      "Using c:\\users\\administrator\\appdata\\local\\programs\\python\\python310\\lib\\site-packages\n",
      "Searching for platformdirs==3.5.3\n",
      "Best match: platformdirs 3.5.3\n",
      "Adding platformdirs 3.5.3 to easy-install.pth file\n",
      "\n",
      "Using c:\\users\\administrator\\appdata\\roaming\\python\\python310\\site-packages\n",
      "Searching for typing-extensions==4.6.3\n",
      "Best match: typing-extensions 4.6.3\n",
      "Adding typing-extensions 4.6.3 to easy-install.pth file\n",
      "\n",
      "Using c:\\users\\administrator\\appdata\\local\\programs\\python\\python310\\lib\\site-packages\n",
      "Searching for wrapt==1.15.0\n",
      "Best match: wrapt 1.15.0\n",
      "Adding wrapt 1.15.0 to easy-install.pth file\n",
      "\n",
      "Using c:\\users\\administrator\\appdata\\local\\programs\\python\\python310\\lib\\site-packages\n",
      "Searching for lazy-object-proxy==1.9.0\n",
      "Best match: lazy-object-proxy 1.9.0\n",
      "Adding lazy-object-proxy 1.9.0 to easy-install.pth file\n",
      "\n",
      "Using c:\\users\\administrator\\appdata\\local\\programs\\python\\python310\\lib\\site-packages\n",
      "Finished processing dependencies for iqoptionapi==6.8.9.1\n"
     ]
    },
    {
     "name": "stderr",
     "output_type": "stream",
     "text": [
      "c:\\Users\\Administrator\\AppData\\Local\\Programs\\Python\\Python310\\lib\\site-packages\\setuptools\\command\\install.py:34: SetuptoolsDeprecationWarning: setup.py install is deprecated. Use build and pip and other standards-based tools.\n",
      "  warnings.warn(\n",
      "c:\\Users\\Administrator\\AppData\\Local\\Programs\\Python\\Python310\\lib\\site-packages\\setuptools\\command\\easy_install.py:144: EasyInstallDeprecationWarning: easy_install command is deprecated. Use build and pip and other standards-based tools.\n",
      "  warnings.warn(\n"
     ]
    }
   ],
   "source": [
    "!python setup.py install"
   ]
  },
  {
   "cell_type": "code",
   "execution_count": 6,
   "metadata": {},
   "outputs": [
    {
     "name": "stdout",
     "output_type": "stream",
     "text": [
      "Requirement already satisfied: iqoptionapi in c:\\users\\administrator\\appdata\\local\\programs\\python\\python310\\lib\\site-packages\\iqoptionapi-6.8.9.1-py3.10.egg (6.8.9.1)\n",
      "Requirement already satisfied: pylint in c:\\users\\administrator\\appdata\\local\\programs\\python\\python310\\lib\\site-packages (from iqoptionapi) (2.17.4)\n",
      "Requirement already satisfied: requests in c:\\users\\administrator\\appdata\\local\\programs\\python\\python310\\lib\\site-packages (from iqoptionapi) (2.31.0)\n",
      "Requirement already satisfied: websocket-client==0.56 in c:\\users\\administrator\\appdata\\local\\programs\\python\\python310\\lib\\site-packages (from iqoptionapi) (0.56.0)\n",
      "Requirement already satisfied: six in c:\\users\\administrator\\appdata\\roaming\\python\\python310\\site-packages (from websocket-client==0.56->iqoptionapi) (1.16.0)\n",
      "Requirement already satisfied: platformdirs>=2.2.0 in c:\\users\\administrator\\appdata\\roaming\\python\\python310\\site-packages (from pylint->iqoptionapi) (3.5.3)\n",
      "Requirement already satisfied: isort<6,>=4.2.5 in c:\\users\\administrator\\appdata\\local\\programs\\python\\python310\\lib\\site-packages (from pylint->iqoptionapi) (5.12.0)\n",
      "Requirement already satisfied: tomlkit>=0.10.1 in c:\\users\\administrator\\appdata\\local\\programs\\python\\python310\\lib\\site-packages (from pylint->iqoptionapi) (0.11.8)\n",
      "Requirement already satisfied: colorama>=0.4.5 in c:\\users\\administrator\\appdata\\roaming\\python\\python310\\site-packages (from pylint->iqoptionapi) (0.4.6)\n",
      "Requirement already satisfied: tomli>=1.1.0 in c:\\users\\administrator\\appdata\\local\\programs\\python\\python310\\lib\\site-packages (from pylint->iqoptionapi) (2.0.1)\n",
      "Requirement already satisfied: astroid<=2.17.0-dev0,>=2.15.4 in c:\\users\\administrator\\appdata\\local\\programs\\python\\python310\\lib\\site-packages (from pylint->iqoptionapi) (2.15.5)\n",
      "Requirement already satisfied: mccabe<0.8,>=0.6 in c:\\users\\administrator\\appdata\\local\\programs\\python\\python310\\lib\\site-packages (from pylint->iqoptionapi) (0.7.0)\n",
      "Requirement already satisfied: dill>=0.2 in c:\\users\\administrator\\appdata\\local\\programs\\python\\python310\\lib\\site-packages (from pylint->iqoptionapi) (0.3.6)\n",
      "Requirement already satisfied: charset-normalizer<4,>=2 in c:\\users\\administrator\\appdata\\local\\programs\\python\\python310\\lib\\site-packages (from requests->iqoptionapi) (3.1.0)\n",
      "Requirement already satisfied: urllib3<3,>=1.21.1 in c:\\users\\administrator\\appdata\\local\\programs\\python\\python310\\lib\\site-packages (from requests->iqoptionapi) (2.0.3)\n",
      "Requirement already satisfied: idna<4,>=2.5 in c:\\users\\administrator\\appdata\\local\\programs\\python\\python310\\lib\\site-packages (from requests->iqoptionapi) (3.4)\n",
      "Requirement already satisfied: certifi>=2017.4.17 in c:\\users\\administrator\\appdata\\local\\programs\\python\\python310\\lib\\site-packages (from requests->iqoptionapi) (2023.5.7)\n",
      "Requirement already satisfied: lazy-object-proxy>=1.4.0 in c:\\users\\administrator\\appdata\\local\\programs\\python\\python310\\lib\\site-packages (from astroid<=2.17.0-dev0,>=2.15.4->pylint->iqoptionapi) (1.9.0)\n",
      "Requirement already satisfied: typing-extensions>=4.0.0 in c:\\users\\administrator\\appdata\\local\\programs\\python\\python310\\lib\\site-packages (from astroid<=2.17.0-dev0,>=2.15.4->pylint->iqoptionapi) (4.6.3)\n",
      "Requirement already satisfied: wrapt<2,>=1.11 in c:\\users\\administrator\\appdata\\local\\programs\\python\\python310\\lib\\site-packages (from astroid<=2.17.0-dev0,>=2.15.4->pylint->iqoptionapi) (1.15.0)\n"
     ]
    },
    {
     "name": "stderr",
     "output_type": "stream",
     "text": [
      "\n",
      "[notice] A new release of pip available: 22.3.1 -> 23.1.2\n",
      "[notice] To update, run: python.exe -m pip install --upgrade pip\n"
     ]
    }
   ],
   "source": [
    "!pip install iqoptionapi --upgrade"
   ]
  },
  {
   "cell_type": "code",
   "execution_count": 7,
   "metadata": {},
   "outputs": [
    {
     "name": "stdout",
     "output_type": "stream",
     "text": [
      "Requirement already satisfied: pandas in c:\\users\\administrator\\appdata\\local\\programs\\python\\python310\\lib\\site-packages (2.0.2)\n",
      "Requirement already satisfied: python-dateutil>=2.8.2 in c:\\users\\administrator\\appdata\\roaming\\python\\python310\\site-packages (from pandas) (2.8.2)\n",
      "Requirement already satisfied: numpy>=1.21.0 in c:\\users\\administrator\\appdata\\local\\programs\\python\\python310\\lib\\site-packages (from pandas) (1.24.3)\n",
      "Requirement already satisfied: pytz>=2020.1 in c:\\users\\administrator\\appdata\\local\\programs\\python\\python310\\lib\\site-packages (from pandas) (2023.3)\n",
      "Requirement already satisfied: tzdata>=2022.1 in c:\\users\\administrator\\appdata\\local\\programs\\python\\python310\\lib\\site-packages (from pandas) (2023.3)\n",
      "Requirement already satisfied: six>=1.5 in c:\\users\\administrator\\appdata\\roaming\\python\\python310\\site-packages (from python-dateutil>=2.8.2->pandas) (1.16.0)\n"
     ]
    },
    {
     "name": "stderr",
     "output_type": "stream",
     "text": [
      "\n",
      "[notice] A new release of pip available: 22.3.1 -> 23.1.2\n",
      "[notice] To update, run: python.exe -m pip install --upgrade pip\n"
     ]
    }
   ],
   "source": [
    "!pip install pandas"
   ]
  },
  {
   "cell_type": "code",
   "execution_count": 8,
   "metadata": {},
   "outputs": [
    {
     "name": "stdout",
     "output_type": "stream",
     "text": [
      "^C\n"
     ]
    },
    {
     "ename": "",
     "evalue": "",
     "output_type": "error",
     "traceback": [
      "\u001b[1;31mThe Kernel crashed while executing code in the the current cell or a previous cell. Please review the code in the cell(s) to identify a possible cause of the failure. Click <a href='https://aka.ms/vscodeJupyterKernelCrash'>here</a> for more info. View Jupyter <a href='command:jupyter.viewOutput'>log</a> for further details."
     ]
    }
   ],
   "source": [
    "!python code_script.py  >output_1.txt 2>error_1.txt"
   ]
  }
 ],
 "metadata": {
  "kernelspec": {
   "display_name": "Python 3",
   "language": "python",
   "name": "python3"
  },
  "language_info": {
   "codemirror_mode": {
    "name": "ipython",
    "version": 3
   },
   "file_extension": ".py",
   "mimetype": "text/x-python",
   "name": "python",
   "nbconvert_exporter": "python",
   "pygments_lexer": "ipython3",
   "version": "3.10.9"
  },
  "orig_nbformat": 4
 },
 "nbformat": 4,
 "nbformat_minor": 2
}
